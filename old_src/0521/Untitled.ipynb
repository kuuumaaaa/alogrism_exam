{
 "cells": [
  {
   "cell_type": "code",
   "execution_count": 4,
   "id": "1bb6aa1a-ecb9-4ed3-a6cb-e4887444d457",
   "metadata": {},
   "outputs": [
    {
     "name": "stdin",
     "output_type": "stream",
     "text": [
      " 97\n"
     ]
    },
    {
     "name": "stdout",
     "output_type": "stream",
     "text": [
      "a\n"
     ]
    }
   ],
   "source": [
    "def main():\n",
    "    N = int(input())\n",
    "    print(chr(N))\n",
    "    return\n",
    " \n",
    "if __name__ == '__main__':\n",
    "    main()"
   ]
  },
  {
   "cell_type": "code",
   "execution_count": 17,
   "id": "486ccf89-462a-4606-b24d-965725a594e7",
   "metadata": {},
   "outputs": [
    {
     "name": "stdin",
     "output_type": "stream",
     "text": [
      " 5 3\n",
      " 6 8 10 7 10\n",
      " 2 3 4\n"
     ]
    },
    {
     "name": "stdout",
     "output_type": "stream",
     "text": [
      "Yes\n"
     ]
    }
   ],
   "source": [
    "def main():\n",
    "    n, k = map(int,input().split())\n",
    "    A = list(map(int, input().split()))\n",
    "    B = list(map(int, input().split()))\n",
    "    Amax = max(A)\n",
    "    result = False\n",
    "    for i in range(len(A)):\n",
    "        if (A[i] == Amax) and (i+1 in B):\n",
    "            result = True\n",
    "            print('Yes')\n",
    "            return\n",
    "    print('No')\n",
    "    return\n",
    " \n",
    "if __name__ == '__main__':\n",
    "    main()"
   ]
  },
  {
   "cell_type": "code",
   "execution_count": 39,
   "id": "bbe44eeb-b2ad-46e2-be08-3300d854448c",
   "metadata": {},
   "outputs": [
    {
     "data": {
      "text/plain": [
       "6"
      ]
     },
     "execution_count": 39,
     "metadata": {},
     "output_type": "execute_result"
    }
   ],
   "source": [
    "'1937458062'.index(str(8))"
   ]
  },
  {
   "cell_type": "code",
   "execution_count": 37,
   "id": "9206154c-36ed-43aa-ab44-7a95d656885c",
   "metadata": {},
   "outputs": [
    {
     "name": "stdin",
     "output_type": "stream",
     "text": [
      " 3\n",
      " 1937458062\n",
      " 8124690357\n",
      " 2385760149\n"
     ]
    },
    {
     "name": "stdout",
     "output_type": "stream",
     "text": [
      "46\n"
     ]
    }
   ],
   "source": [
    "import collections\n",
    "def main():\n",
    "    n = int(input())\n",
    "    #リスト内包表記\n",
    "    A = [str(input()) for _ in range(n)]\n",
    "    t = 0\n",
    "    for i in range(1,9):\n",
    "        a = []\n",
    "        counter = 0\n",
    "        for N in range(len(A)):\n",
    "            xxx = A[N].index(str(i))\n",
    "            a.append(xxx)\n",
    "            if i in a:\n",
    "                counter += xxx + 10\n",
    "            else:\n",
    "                counter += xxx\n",
    "        if t < counter:\n",
    "            print(i)\n",
    "            t = counter\n",
    "    print(t)\n",
    "    return \n",
    "        \n",
    " \n",
    "if __name__ == '__main__':\n",
    "    main()"
   ]
  }
 ],
 "metadata": {
  "kernelspec": {
   "display_name": "Python 3 (ipykernel)",
   "language": "python",
   "name": "python3"
  },
  "language_info": {
   "codemirror_mode": {
    "name": "ipython",
    "version": 3
   },
   "file_extension": ".py",
   "mimetype": "text/x-python",
   "name": "python",
   "nbconvert_exporter": "python",
   "pygments_lexer": "ipython3",
   "version": "3.9.7"
  }
 },
 "nbformat": 4,
 "nbformat_minor": 5
}
